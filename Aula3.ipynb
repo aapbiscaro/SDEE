{
  "nbformat": 4,
  "nbformat_minor": 0,
  "metadata": {
    "colab": {
      "provenance": [],
      "authorship_tag": "ABX9TyOa7w+pNYp5Uxx1yAKPzVVa",
      "include_colab_link": true
    },
    "kernelspec": {
      "name": "python3",
      "display_name": "Python 3"
    },
    "language_info": {
      "name": "python"
    }
  },
  "cells": [
    {
      "cell_type": "markdown",
      "metadata": {
        "id": "view-in-github",
        "colab_type": "text"
      },
      "source": [
        "<a href=\"https://colab.research.google.com/github/aapbiscaro/SDEE/blob/main/Aula3.ipynb\" target=\"_parent\"><img src=\"https://colab.research.google.com/assets/colab-badge.svg\" alt=\"Open In Colab\"/></a>"
      ]
    },
    {
      "cell_type": "markdown",
      "source": [],
      "metadata": {
        "id": "NZ99-IQnNpPD"
      }
    },
    {
      "cell_type": "code",
      "source": [
        "#Imports\n",
        "#from sympy import *\n",
        "from numpy import *\n",
        "import math\n",
        "#coding=utf-8\n",
        "\n",
        "# Definição das variáveis\n",
        "iter = 10\n",
        "erro = 0.001\n",
        "\n",
        "# Rede elétrica\n",
        "v1 = 1 + 0j\n",
        "v2 = 1 + 0j\n",
        "z = 0.01 + 0.1j\n",
        "s = 0.8+0.4j\n",
        "\n",
        "# Main Program\n",
        "for i in range(iter):\n",
        "    i12 = conjugate(s/v2)\n",
        "    v2 = v1 - z*i12\n",
        "    out = [i, abs(v2), angle(v2)*180/pi, abs(i12), angle(i12)*180/pi]\n",
        "    print(out)"
      ],
      "metadata": {
        "colab": {
          "base_uri": "https://localhost:8080/"
        },
        "id": "P5H_7culYl4A",
        "outputId": "94829c94-5686-496b-fa03-556e3cde8c92"
      },
      "execution_count": 37,
      "outputs": [
        {
          "output_type": "stream",
          "name": "stdout",
          "text": [
            "[0, 0.9550287953773959, -4.564352826537396, 0.894427190999916, -26.56505117707799]\n",
            "[1, 0.9465683174953577, -4.564352826537395, 0.9365447359589484, -31.129404003615388]\n",
            "[2, 0.9461193559460803, -4.607426985066532, 0.9449156225369887, -31.129404003615388]\n",
            "[3, 0.9460349175581868, -4.60742698506653, 0.9453640128792477, -31.17247816214452]\n",
            "[4, 0.9460303893595349, -4.60786121321882, 0.9454483913855148, -31.17247816214452]\n",
            "[5, 0.9460295376609091, -4.607861213218818, 0.9454529167984186, -31.17291239029681]\n",
            "[6, 0.9460294919818264, -4.607865593557711, 0.9454537679779198, -31.17291239029681]\n",
            "[7, 0.9460294833901454, -4.607865593557713, 0.9454538136292037, -31.1729167706357]\n",
            "[8, 0.9460294829293479, -4.607865637745306, 0.9454538222156567, -31.1729167706357]\n",
            "[9, 0.9460294828426775, -4.607865637745306, 0.9454538226761737, -31.172916814823292]\n"
          ]
        }
      ]
    },
    {
      "cell_type": "code",
      "source": [
        "# PROGRAMA COM CRITÉRIO DE PARADA (CONVERGÊNCIA)\n",
        "\n",
        "#Imports\n",
        "from numpy import *\n",
        "import math\n",
        "\n",
        "# Definição das variáveis\n",
        "iter = 0\n",
        "erro = 0.0001\n",
        "er = 1\n",
        "deltai = 1\n",
        "\n",
        "# Rede elétrica\n",
        "v1 = 1 + 0j\n",
        "v2 = 1 + 0j\n",
        "z = 0.01 + 0.1j\n",
        "s = 0.8+0.4j\n",
        "\n",
        "# Main Program 2\n",
        "\n",
        "\n",
        "\n",
        "while er > erro:\n",
        "    i12 = conjugate(s/v2)\n",
        "    v2 = v1 - z*i12\n",
        "    out = [iter, abs(v2), angle(v2)*180/pi, abs(i12), angle(i12)*180/pi]\n",
        "    print(out)\n",
        "    er = deltai - v2\n",
        "    deltai = v2\n",
        "    iter+=1"
      ],
      "metadata": {
        "colab": {
          "base_uri": "https://localhost:8080/"
        },
        "id": "loRWtFAYeiIB",
        "outputId": "cf91e7be-1204-4d79-bc15-11f3732236f6"
      },
      "execution_count": 48,
      "outputs": [
        {
          "output_type": "stream",
          "name": "stdout",
          "text": [
            "[0, 0.9550287953773959, -4.564352826537396, 0.894427190999916, -26.56505117707799]\n",
            "[1, 0.9465683174953577, -4.564352826537395, 0.9365447359589484, -31.129404003615388]\n",
            "[2, 0.9461193559460803, -4.607426985066532, 0.9449156225369887, -31.129404003615388]\n",
            "[3, 0.9460349175581868, -4.60742698506653, 0.9453640128792477, -31.17247816214452]\n"
          ]
        }
      ]
    }
  ]
}