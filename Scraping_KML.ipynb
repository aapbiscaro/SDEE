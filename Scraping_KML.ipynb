{
  "nbformat": 4,
  "nbformat_minor": 0,
  "metadata": {
    "colab": {
      "provenance": [],
      "include_colab_link": true
    },
    "kernelspec": {
      "name": "python3",
      "display_name": "Python 3"
    }
  },
  "cells": [
    {
      "cell_type": "markdown",
      "metadata": {
        "id": "view-in-github",
        "colab_type": "text"
      },
      "source": [
        "<a href=\"https://colab.research.google.com/github/aapbiscaro/SDEE/blob/main/Scraping_KML.ipynb\" target=\"_parent\"><img src=\"https://colab.research.google.com/assets/colab-badge.svg\" alt=\"Open In Colab\"/></a>"
      ]
    },
    {
      "cell_type": "code",
      "metadata": {
        "id": "himPvYm6zpsb",
        "colab": {
          "base_uri": "https://localhost:8080/"
        },
        "outputId": "452aae34-8cfb-4d8c-e620-b573fdd62d83"
      },
      "source": [
        "!pip install pykml"
      ],
      "execution_count": null,
      "outputs": [
        {
          "output_type": "stream",
          "text": [
            "Collecting pykml\n",
            "\u001b[?25l  Downloading https://files.pythonhosted.org/packages/b8/22/8b3e7aec303a3d11bc62de04d863cf2092d7a722ade35809f7f6232df164/pykml-0.2.0-py3-none-any.whl (41kB)\n",
            "\r\u001b[K     |████████                        | 10kB 14.4MB/s eta 0:00:01\r\u001b[K     |████████████████                | 20kB 20.4MB/s eta 0:00:01\r\u001b[K     |████████████████████████        | 30kB 18.7MB/s eta 0:00:01\r\u001b[K     |███████████████████████████████▉| 40kB 13.6MB/s eta 0:00:01\r\u001b[K     |████████████████████████████████| 51kB 4.4MB/s \n",
            "\u001b[?25hRequirement already satisfied: lxml>=3.3.6 in /usr/local/lib/python3.7/dist-packages (from pykml) (4.2.6)\n",
            "Installing collected packages: pykml\n",
            "Successfully installed pykml-0.2.0\n"
          ],
          "name": "stdout"
        }
      ]
    },
    {
      "cell_type": "code",
      "metadata": {
        "id": "7YuAdhWyqmA-"
      },
      "source": [
        "from bs4 import BeautifulSoup\n",
        "from pykml import parser\n",
        "a = input(\"nome do arquivo :\")\n",
        "with open(a,'r') as txt_file:\n",
        "  c = txt_file.read()\n",
        "  soup = BeautifulSoup(txt_file,'lxml')\n",
        "  placemark = soup.find_all('Placemark')\n",
        "  for x in placemark:\n",
        "    print(x)\n",
        "print('pimba')"
      ],
      "execution_count": null,
      "outputs": []
    },
    {
      "cell_type": "code",
      "metadata": {
        "colab": {
          "base_uri": "https://localhost:8080/"
        },
        "id": "EicC-C6ezFK4",
        "outputId": "cd68e372-03bd-4123-ac86-910c288408ff"
      },
      "source": [
        "pip install lxml"
      ],
      "execution_count": null,
      "outputs": [
        {
          "output_type": "stream",
          "text": [
            "Requirement already satisfied: lxml in /usr/local/lib/python3.7/dist-packages (4.2.6)\n"
          ],
          "name": "stdout"
        }
      ]
    },
    {
      "cell_type": "code",
      "metadata": {
        "id": "Y0T_fl1beKsj"
      },
      "source": [
        "from bs4 import BeautifulSoup\n",
        "import os\n",
        "import lxml.etree\n",
        "import parser\n",
        "#a = input(\"nome do arquivo :\")\n",
        "a = 'psu copy.kml'\n",
        "with open(a,'r') as t:\n",
        "  c = t.read()\n",
        "#with open(depressao,'r') as a:\n",
        "  #soup = BeautifulSoup(a,'html.parser')\n",
        "#soup = BeautifulSoup(open(a), \"lxml.parser\")\n",
        "c.find_all(\"Placemark\",attrs={\"class\" : \"este\"})\n",
        "for x in  soup.find_all('Placemark'):\n",
        "  print(x)"
      ],
      "execution_count": null,
      "outputs": []
    },
    {
      "cell_type": "code",
      "metadata": {
        "id": "0a-5znq30010",
        "colab": {
          "base_uri": "https://localhost:8080/"
        },
        "outputId": "6272ec1f-2b9c-4a1a-bf84-95eecaf5decf"
      },
      "source": [
        "import bs4 as bs\n",
        "from bs4 import BeautifulSoup\n",
        "import os\n",
        "import lxml.html\n",
        "import parser\n",
        "#a = input(\"nome do arquivo :\")\n",
        "a = 'psu copy.kml'\n",
        "#with open(depressao,'r') as a:\n",
        "  #soup = BeautifulSoup(a,'html.parser')\n",
        "#soup = BeautifulSoup(open(a), \"html.lxml.parser\")\n",
        "soup = bs.BeautifulSoup(open(a),'lxml')\n",
        "aa = soup.find_all('Placemark')\n",
        "print(aa)\n",
        "#for name in aa:\n",
        "  #print(name)\n"
      ],
      "execution_count": null,
      "outputs": [
        {
          "output_type": "stream",
          "text": [
            "[]\n"
          ],
          "name": "stdout"
        }
      ]
    },
    {
      "cell_type": "code",
      "metadata": {
        "colab": {
          "base_uri": "https://localhost:8080/"
        },
        "id": "5a9JqwunoLi8",
        "outputId": "d6115984-62ef-448a-defb-a35d08ae33a3"
      },
      "source": [
        "#este aqui ta funcionando\n",
        "from bs4 import BeautifulSoup as bs\n",
        "import re\n",
        "import pandas as pd\n",
        "content = []\n",
        "#ler o arquivo xml\n",
        "with open(\"psu.kml\", \"r\") as file:\n",
        "    # le todas as linhas do arquivo, readlines() retorna uma lista das linhas\n",
        "    content = file.readlines()\n",
        "    #transforma as linhas da lista em uma string\n",
        "    content = \"\".join(content)\n",
        "    bs_content = bs(content, \"xml\")\n",
        "    #result = bs_content.find(\"Folder\",attrs={\"class\":\"aqui\"})\n",
        "    result0 = bs_content.find('Folder')\n",
        "    result1 = result0.find(\"Folder\")\n",
        "    result = result1.findChildren('Folder')[2]\n",
        "    a,b,c,d,e,f,h,j = [],[],[],[],[],[],[],[]\n",
        "    styleurl = result.find_all('styleUrl')\n",
        "    simple_data0 = result.find_all('SimpleData',attrs={\"name\":\"CODIGO\"})\n",
        "    simple_data1 = result.find_all('SimpleData',attrs={\"name\":\"POTENCIA\"})\n",
        "    simple_data2 = result.find_all('SimpleData',attrs={\"name\":\"PROPRIEDADE\"})\n",
        "    simple_data3 = result.find_all('SimpleData',attrs={\"name\":\"MANUTENCAO\"})\n",
        "    coordinate = result.find_all('coordinates')\n",
        "    #simple_data1  = place_mark.find_all('SimpleData',attrs={\"name\":\"CODIGO\"})\n",
        "    #print(styleurl)\n",
        "    #print(simple_data0)\n",
        "    #print(simple_data1)\n",
        "    #print(simple_data2)\n",
        "    #print(simple_data3)\n",
        "    #print(coordinate)\n",
        "    for tag in styleurl:\n",
        "      a.append(tag.text.strip())\n",
        "    f.append(a)\n",
        "    for tag in simple_data0:\n",
        "      b.append(tag.text.strip())\n",
        "    f.append(b)\n",
        "    for tag in simple_data1:\n",
        "      c.append(tag.text.strip())\n",
        "    f.append(c)\n",
        "    for tag in simple_data2:\n",
        "      d.append(tag.text.strip())\n",
        "    f.append(d)\n",
        "    for tag in simple_data3:\n",
        "      e.append(tag.text.strip())\n",
        "    f.append(e)\n",
        "    for tag in coordinate:\n",
        "      j.append(tag.text.strip())\n",
        "    f.append(j)\n",
        "    h2 = { 'Trafo': a,'codigo': b,'potencia': c, 'propriedade': d,'manutencao': e,'coordenadas':j}\n",
        "    print(f)\n",
        "    f2 = pd.DataFrame(data=f)\n",
        "    #print(f2)\n",
        "    apf = pd.DataFrame(data=h2)\n",
        "    #apf = pd.DataFrame(f2,lines =['Trafos','codigo','Potencia','Propriedade','Manutencao',])"
      ],
      "execution_count": null,
      "outputs": [
        {
          "output_type": "stream",
          "text": [
            "[['#trafoParticular1', '#trafoEmpresa1', '#trafoEmpresa1', '#trafoEmpresa1', '#trafoEmpresa1', '#trafoEmpresa1', '#trafoEmpresa1', '#trafoEmpresa1', '#trafoParticular1', '#trafoParticular1'], ['5626615167', '5712980167', '5712983167', '5712984167', '5723204167', '5730209167', '5760808167', '5760814167', 'X78942012', '5605330167'], ['5', '5', '5', '5', '5', '5', '5', '5', '5', '10'], ['N', 'S', 'S', 'S', 'S', 'S', 'S', 'S', 'N', 'N'], ['N', 'S', 'S', 'S', 'S', 'S', 'S', 'S', 'N', 'N'], ['-55.763231237048,-12.53440047860879,0', '-55.76864124357802,-12.53775399369717,0', '-55.76771684647944,-12.53748069444693,0', '-55.77079523680909,-12.53771709376309,0', '-55.76015027194356,-12.53683599776466,0', '-55.76540875629949,-12.53739115707346,0', '-55.76057357081222,-12.53756299446724,0', '-55.76229346509434,-12.538267591004,0', '-55.7263609490889,-12.51416203876047,0', '-55.74584018508025,-12.52551269789655,0']]\n"
          ],
          "name": "stdout"
        }
      ]
    },
    {
      "cell_type": "code",
      "metadata": {
        "id": "a2Md9oyY9ppw"
      },
      "source": [
        "apf"
      ],
      "execution_count": null,
      "outputs": []
    },
    {
      "cell_type": "code",
      "metadata": {
        "id": "anAnkybv-cIu"
      },
      "source": [
        "from google.colab import drive\n",
        "drive.mount('/content/drive')"
      ],
      "execution_count": null,
      "outputs": []
    },
    {
      "cell_type": "code",
      "metadata": {
        "id": "1SDMbMdCodnN",
        "colab": {
          "base_uri": "https://localhost:8080/",
          "height": 367
        },
        "outputId": "869bbbc6-c890-40c9-c5e2-82e1ecd3532a"
      },
      "source": [
        "from pykml import parser\n",
        "from os import path\n",
        "\n",
        "kml_file = path.join('psu copy.kml')\n",
        "\n",
        "with open(kml_file) as f:\n",
        "  doc = parser.parse(f).getroot()\n",
        "  c = doc.Document.Folder\n",
        "  print(c)\n",
        "  #c = c.Folder.Placemark.ExtendedData.SchemaData.SimpleData"
      ],
      "execution_count": null,
      "outputs": [
        {
          "output_type": "error",
          "ename": "ModuleNotFoundError",
          "evalue": "ignored",
          "traceback": [
            "\u001b[0;31m---------------------------------------------------------------------------\u001b[0m",
            "\u001b[0;31mModuleNotFoundError\u001b[0m                       Traceback (most recent call last)",
            "\u001b[0;32m<ipython-input-46-c8ef45b89136>\u001b[0m in \u001b[0;36m<module>\u001b[0;34m()\u001b[0m\n\u001b[0;32m----> 1\u001b[0;31m \u001b[0;32mfrom\u001b[0m \u001b[0mpykml\u001b[0m \u001b[0;32mimport\u001b[0m \u001b[0mparser\u001b[0m\u001b[0;34m\u001b[0m\u001b[0;34m\u001b[0m\u001b[0m\n\u001b[0m\u001b[1;32m      2\u001b[0m \u001b[0;32mfrom\u001b[0m \u001b[0mos\u001b[0m \u001b[0;32mimport\u001b[0m \u001b[0mpath\u001b[0m\u001b[0;34m\u001b[0m\u001b[0;34m\u001b[0m\u001b[0m\n\u001b[1;32m      3\u001b[0m \u001b[0;34m\u001b[0m\u001b[0m\n\u001b[1;32m      4\u001b[0m \u001b[0mkml_file\u001b[0m \u001b[0;34m=\u001b[0m \u001b[0mpath\u001b[0m\u001b[0;34m.\u001b[0m\u001b[0mjoin\u001b[0m\u001b[0;34m(\u001b[0m\u001b[0;34m'psu copy.kml'\u001b[0m\u001b[0;34m)\u001b[0m\u001b[0;34m\u001b[0m\u001b[0;34m\u001b[0m\u001b[0m\n\u001b[1;32m      5\u001b[0m \u001b[0;34m\u001b[0m\u001b[0m\n",
            "\u001b[0;31mModuleNotFoundError\u001b[0m: No module named 'pykml'",
            "",
            "\u001b[0;31m---------------------------------------------------------------------------\u001b[0;32m\nNOTE: If your import is failing due to a missing package, you can\nmanually install dependencies using either !pip or !apt.\n\nTo view examples of installing some common dependencies, click the\n\"Open Examples\" button below.\n\u001b[0;31m---------------------------------------------------------------------------\u001b[0m\n"
          ]
        }
      ]
    },
    {
      "cell_type": "code",
      "metadata": {
        "id": "9bEnH4RykUuQ"
      },
      "source": [
        "from bs4 import BeautifulSoup\n",
        "from pykml import parser\n",
        "a = input(\"nome do arquivo :\")\n",
        "with open(a) as f:\n",
        " folder = parser.parse(f).getroot().Document.Folder\n",
        "\n",
        "for pm in folder.Placemark:\n",
        "  print(pm.name)"
      ],
      "execution_count": null,
      "outputs": []
    },
    {
      "cell_type": "code",
      "metadata": {
        "colab": {
          "base_uri": "https://localhost:8080/",
          "height": 95
        },
        "id": "fj5aCnlgn1q3",
        "outputId": "00a73c9d-ed50-4cb1-fca0-0a5b4f96f895"
      },
      "source": [
        "from pykml import parser\n",
        "from os import path\n",
        "from bs4 import BeautifulSoup\n",
        "import lxml\n",
        "#kml_file = path.join('psu copy.kml')\n",
        "kml_file = 'psu copy.kml'\n",
        "with open(kml_file) as f:\n",
        "  doc = parser.parse(f).getroot().Document.Folder\n",
        "  #vakaka = doc.Document.Folder.Folder.Folder.Folder.Placemark.Point.coordinates\n",
        "  root = parser.fromstring(kml_file)\n",
        "  vakaka = doc.Folder.Folder.Folder.Placemark.name\n",
        "print (vakaka)\n",
        "#TESTE\n",
        "for pm in vakaka:\n",
        "  print(pm)\n"
      ],
      "execution_count": null,
      "outputs": [
        {
          "output_type": "error",
          "ename": "XMLSyntaxError",
          "evalue": "ignored",
          "traceback": [
            "\u001b[0;36m  File \u001b[0;32m\"<string>\"\u001b[0;36m, line \u001b[0;32m1\u001b[0m\n\u001b[0;31mXMLSyntaxError\u001b[0m\u001b[0;31m:\u001b[0m Start tag expected, '<' not found, line 1, column 1\n"
          ]
        }
      ]
    },
    {
      "cell_type": "code",
      "metadata": {
        "id": "WUqo6cb0sq-C",
        "colab": {
          "base_uri": "https://localhost:8080/"
        },
        "outputId": "8bb51f30-f5d1-4bd3-fcaa-4968e1254c43"
      },
      "source": [
        "from pykml import parser\n",
        "filename = 'psu copy.kml'\n",
        "with open(filename) as f:\n",
        "  folder = parser.parse(f).getroot().Document.Folder\n",
        "\n",
        "for pm in folder.Folder.Folder.Folder.Placemark:\n",
        "  print(pm.name)\n",
        "#esseaqui"
      ],
      "execution_count": null,
      "outputs": [
        {
          "output_type": "stream",
          "text": [
            "5626615167-5\n",
            "5712980167-5\n",
            "5712983167-5\n",
            "5712984167-5\n",
            "5723204167-5\n",
            "5730209167-5\n",
            "5760808167-5\n",
            "5760814167-5\n",
            "X78942012-5\n",
            "5605330167-10\n"
          ],
          "name": "stdout"
        }
      ]
    },
    {
      "cell_type": "code",
      "metadata": {
        "id": "XmdbelCucvjI",
        "colab": {
          "base_uri": "https://localhost:8080/",
          "height": 231
        },
        "outputId": "cd2af789-edd1-421e-a626-fd972be5da93"
      },
      "source": [
        "filename = 'psu copy.kml'\n",
        "with open(filename) as f:\n",
        "  folder = parser.parse(f).getroot().Document.Folder\n",
        "  for i in folder.Placemark:\n",
        "    print(i.name)"
      ],
      "execution_count": null,
      "outputs": [
        {
          "output_type": "error",
          "ename": "AttributeError",
          "evalue": "ignored",
          "traceback": [
            "\u001b[0;31m---------------------------------------------------------------------------\u001b[0m",
            "\u001b[0;31mAttributeError\u001b[0m                            Traceback (most recent call last)",
            "\u001b[0;32m<ipython-input-10-932f452cfe29>\u001b[0m in \u001b[0;36m<module>\u001b[0;34m()\u001b[0m\n\u001b[1;32m      1\u001b[0m \u001b[0mfilename\u001b[0m \u001b[0;34m=\u001b[0m \u001b[0;34m'psu copy.kml'\u001b[0m\u001b[0;34m\u001b[0m\u001b[0;34m\u001b[0m\u001b[0m\n\u001b[1;32m      2\u001b[0m \u001b[0;32mwith\u001b[0m \u001b[0mopen\u001b[0m\u001b[0;34m(\u001b[0m\u001b[0mfilename\u001b[0m\u001b[0;34m)\u001b[0m \u001b[0;32mas\u001b[0m \u001b[0mf\u001b[0m\u001b[0;34m:\u001b[0m\u001b[0;34m\u001b[0m\u001b[0;34m\u001b[0m\u001b[0m\n\u001b[0;32m----> 3\u001b[0;31m   \u001b[0mfolder\u001b[0m \u001b[0;34m=\u001b[0m \u001b[0mparser\u001b[0m\u001b[0;34m.\u001b[0m\u001b[0mparse\u001b[0m\u001b[0;34m(\u001b[0m\u001b[0mf\u001b[0m\u001b[0;34m)\u001b[0m\u001b[0;34m.\u001b[0m\u001b[0mgetroot\u001b[0m\u001b[0;34m(\u001b[0m\u001b[0;34m)\u001b[0m\u001b[0;34m.\u001b[0m\u001b[0mDocument\u001b[0m\u001b[0;34m.\u001b[0m\u001b[0mFolder\u001b[0m\u001b[0;34m\u001b[0m\u001b[0;34m\u001b[0m\u001b[0m\n\u001b[0m\u001b[1;32m      4\u001b[0m   \u001b[0;32mfor\u001b[0m \u001b[0mi\u001b[0m \u001b[0;32min\u001b[0m \u001b[0mfolder\u001b[0m\u001b[0;34m.\u001b[0m\u001b[0mPlacemark\u001b[0m\u001b[0;34m:\u001b[0m\u001b[0;34m\u001b[0m\u001b[0;34m\u001b[0m\u001b[0m\n\u001b[1;32m      5\u001b[0m     \u001b[0mprint\u001b[0m\u001b[0;34m(\u001b[0m\u001b[0mi\u001b[0m\u001b[0;34m.\u001b[0m\u001b[0mname\u001b[0m\u001b[0;34m)\u001b[0m\u001b[0;34m\u001b[0m\u001b[0;34m\u001b[0m\u001b[0m\n",
            "\u001b[0;31mAttributeError\u001b[0m: module 'parser' has no attribute 'parse'"
          ]
        }
      ]
    },
    {
      "cell_type": "code",
      "metadata": {
        "id": "TcpajSJ7g7AJ"
      },
      "source": [
        "from pykml import parser\n",
        "from pykml.factory import nsmap\n",
        "namespace = {\"ns\": nsmap[None]}\n",
        "with open(filename) as f:\n",
        "  root = parser.parse(f).getroot()\n",
        "  pms = root.findall(\".//ns:Placemark\", namespaces=namespace)\n",
        "  v = []\n",
        "  for pm in pms:\n",
        "    print(pm)"
      ],
      "execution_count": null,
      "outputs": []
    }
  ]
}