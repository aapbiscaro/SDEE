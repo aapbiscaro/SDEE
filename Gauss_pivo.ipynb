{
  "nbformat": 4,
  "nbformat_minor": 0,
  "metadata": {
    "kernelspec": {
      "display_name": "Python 3",
      "language": "python",
      "name": "python3"
    },
    "language_info": {
      "codemirror_mode": {
        "name": "ipython",
        "version": 3
      },
      "file_extension": ".py",
      "mimetype": "text/x-python",
      "name": "python",
      "nbconvert_exporter": "python",
      "pygments_lexer": "ipython3",
      "version": "3.6.2"
    },
    "colab": {
      "provenance": [],
      "toc_visible": true,
      "include_colab_link": true
    }
  },
  "cells": [
    {
      "cell_type": "markdown",
      "metadata": {
        "id": "view-in-github",
        "colab_type": "text"
      },
      "source": [
        "<a href=\"https://colab.research.google.com/github/aapbiscaro/SDEE/blob/C%C3%A1lculo_Num%C3%A9rico/Gauss_pivo.ipynb\" target=\"_parent\"><img src=\"https://colab.research.google.com/assets/colab-badge.svg\" alt=\"Open In Colab\"/></a>"
      ]
    },
    {
      "cell_type": "markdown",
      "metadata": {
        "id": "msrTiR0aPNbE"
      },
      "source": [
        "# Método da Eliminação de Gauss com Pivotação Parcial\n",
        "\n"
      ]
    },
    {
      "cell_type": "markdown",
      "metadata": {
        "id": "amBdY2NnPNbG"
      },
      "source": [
        " **Função para escolher o pivô**"
      ]
    },
    {
      "cell_type": "code",
      "metadata": {
        "id": "4OACKmINPNbG"
      },
      "source": [
        "def escolha(k, A, b):\n",
        "\n",
        "    n = len(A)\n",
        "\n",
        "    ## inicializa flag para controlar se houve troca de linha com false\n",
        "    houve_troca = False\n",
        "    ## identifica o elemento de maior valor absoluto e a linha onde ele está\n",
        "    pivo = A[k][k]\n",
        "    L_pivo = k\n",
        "    for i in range (k+1, n):\n",
        "      if abs(A[i][k])>abs(pivo):\n",
        "        pivo = A[i][k]\n",
        "        L_pivo = i\n",
        "\n",
        "    ## se k for diferente da linha onde está o pivô, troca a linha k\n",
        "    if k != L_pivo:\n",
        "      A[k], A[L_pivo] = A[L_pivo], A[k]\n",
        "      b[k], b[L_pivo] =  b[L_pivo], b[k]\n",
        "      houve_troca = True\n",
        "    ## pela linha do pivô em A e b e atribui o valor True à flag\n",
        "\n",
        "    ## retorna a flag\n",
        "    return houve_troca\n"
      ],
      "execution_count": null,
      "outputs": []
    },
    {
      "cell_type": "markdown",
      "source": [
        "TESTE"
      ],
      "metadata": {
        "id": "WMIEM3ACv941"
      }
    },
    {
      "cell_type": "code",
      "metadata": {
        "id": "EmrbJsM2PNbK",
        "colab": {
          "base_uri": "https://localhost:8080/"
        },
        "outputId": "65f15372-d545-4951-c4d3-82de8fd9bd56"
      },
      "source": [
        "A = [[0, 3, 4],[10, 2, 3],\n",
        "     [11, 5, 0] ]\n",
        "b = [3, 4, 3]\n",
        "## Testaremos com a primeira coluna (k=0)\n",
        "houveTroca = escolha(0, A, b)\n",
        "print(houveTroca)\n",
        "print(\"A =\", A)\n",
        "print(\"b =\", b)"
      ],
      "execution_count": null,
      "outputs": [
        {
          "output_type": "stream",
          "name": "stdout",
          "text": [
            "True\n",
            "A = [[11, 5, 0], [10, 2, 3], [0, 3, 4]]\n",
            "b = [3, 4, 3]\n"
          ]
        }
      ]
    },
    {
      "cell_type": "code",
      "metadata": {
        "id": "D1ateffXPNbN"
      },
      "source": [
        "def substituicoes_retroativas(A, b):\n",
        "    n = len(A)\n",
        "    x = n*[0]\n",
        "    for i in range(n-1, -1, -1):\n",
        "      sum = 0\n",
        "      for j in range(i+1, n):\n",
        "        sum = sum+A[i][j]*x[j]\n",
        "      x[i] = (b[i] - sum)/A[i][i]\n",
        "    return x\n"
      ],
      "execution_count": null,
      "outputs": []
    },
    {
      "cell_type": "markdown",
      "metadata": {
        "id": "LmZP1jIqPNbP"
      },
      "source": [
        "GAUSS com pivoteamento"
      ]
    },
    {
      "cell_type": "code",
      "metadata": {
        "id": "OPLjoBhgPNbQ"
      },
      "source": [
        "def gauss_pivot(A, b):\n",
        "\n",
        "    n = len(A)\n",
        "    x = n*[0]\n",
        "    for k in range(0, n-1):\n",
        "      for i in range(k+1, n):\n",
        "        escolha(k, A, b)\n",
        "        m = -A[i][k]/A[k][k]\n",
        "        for j in range(k+1, n):\n",
        "          A[i][j] = A[i][j]+m*A[k][j]\n",
        "        b[i] = b[i]+m*b[k]\n",
        "    x = substituicoes_retroativas(A, b)\n",
        "    return x\n",
        "\n",
        "\n"
      ],
      "execution_count": null,
      "outputs": []
    },
    {
      "cell_type": "code",
      "source": [
        "A = [[100, 30, 20, 35],[10, 100, 20, 40], [10, 10, 50, 20], [5, 6, 5, 15]]\n",
        "b = [205, 190, 140, 54]\n",
        "x = gauss_pivot(A, b)\n",
        "print(x)"
      ],
      "metadata": {
        "colab": {
          "base_uri": "https://localhost:8080/"
        },
        "id": "OFFU80cMgz_J",
        "outputId": "59e09fae-71e2-46ad-82fb-eb02cd3d048f"
      },
      "execution_count": null,
      "outputs": [
        {
          "output_type": "stream",
          "name": "stdout",
          "text": [
            "[0.6706518349100739, 0.45545274976608785, 1.496621270402329, 2.695394531656097]\n"
          ]
        }
      ]
    },
    {
      "cell_type": "markdown",
      "metadata": {
        "id": "afmW28FUPNbS"
      },
      "source": [
        "TESTE\n"
      ]
    },
    {
      "cell_type": "code",
      "metadata": {
        "id": "auwRbtx2PNbS",
        "colab": {
          "base_uri": "https://localhost:8080/"
        },
        "outputId": "43a12c2c-dca4-4f92-ce76-fba3fd8a8b34"
      },
      "source": [
        "A = [[7, 1, -1],\n",
        "     [1, 8, 1],\n",
        "     [2, -1, 5]]\n",
        "b = [13, 30, 21]\n",
        "x = gauss_pivot(A, b)\n",
        "print(x)"
      ],
      "execution_count": null,
      "outputs": [
        {
          "output_type": "stream",
          "name": "stdout",
          "text": [
            "[2.0, 3.0, 4.0]\n"
          ]
        }
      ]
    },
    {
      "cell_type": "code",
      "metadata": {
        "id": "Lzz9no8HPNbV",
        "colab": {
          "base_uri": "https://localhost:8080/"
        },
        "outputId": "c0001e76-490e-4cd1-bfbd-5656e95138a7"
      },
      "source": [
        "\n",
        "A = [[-((2)**(1/2))/2, 0, 0, 1, ((2)**(1/2))/2, 0, 0, 0,      0    , 0, 0, 0,     0     , 0, 0,     0     , 0 ],\n",
        "     [-((2)**(1/2))/2, 0,-1, 0,-((2)**(1/2))/2, 0, 0, 0,      0    , 0, 0, 0,     0     , 0, 0,     0     , 0 ],\n",
        "     [     0       ,-1, 0, 0,    0      , 1, 0, 0,      0    , 0, 0, 0,     0     , 0, 0,     0     , 0 ],\n",
        "     [     0       , 0, 1, 0,    0      , 0, 0, 0,      0    , 0, 0, 0,     0     , 0, 0,     0     , 0 ],\n",
        "     [     0       , 0, 0,-1,    0      , 0, 0, 1,      0    , 0, 0, 0,     0     , 0, 0,     0     , 0 ],\n",
        "     [     0       , 0, 0, 0,    0      , 0,-1, 0,      0    , 0, 0, 0,     0     , 0, 0,     0     , 0 ],\n",
        "     [     0       , 0, 0, 0,-((2)**(1/2))/2,-1, 0, 0,((2)**(1/2))/2 , 1, 0, 0,     0     , 0, 0,     0     , 0 ],\n",
        "     [     0       , 0, 0, 0,((2)**(1/2))/2 , 0, 1, 0,((2)**(1/2))/2 , 0, 0, 0,     0     , 0, 0,     0     , 0 ],\n",
        "     [     0       , 0, 0, 0,     0     , 0, 0,-1,-((2)**(1/2))/2, 0, 0, 1, ((2)**(1/2))/2, 0, 0,     0     , 0 ],\n",
        "     [     0       , 0, 0, 0,     0     , 0, 0, 0,-((2)**(1/2))/2, 0,-1, 0,-((2)**(1/2))/2, 0, 0,     0     , 0 ],\n",
        "     [     0       , 0, 0, 0,     0     , 0, 0, 0,      0    ,-1, 0, 0,     0     , 1, 0,     0     , 0 ],\n",
        "     [     0       , 0, 0, 0,     0     , 0, 0, 0,      0    , 0, 1, 0,     0     , 0, 0,     0     , 0 ],\n",
        "     [     0       , 0, 0, 0,     0     , 0, 0, 0,      0    , 0, 0,-1,     0     , 0, 0, ((2)**(1/2))/2, 0 ],\n",
        "     [     0       , 0, 0, 0,     0     , 0, 0, 0,      0    , 0, 0, 0,     0     , 0,-1,-((2)**(1/2))/2, 0 ],\n",
        "     [     0       , 0, 0, 0,     0     , 0, 0, 0,      0    , 0, 0, 0,-((2)**(1/2))/2,-1, 0,     0     , 1 ],\n",
        "     [     0       , 0, 0, 0,     0     , 0, 0, 0,      0    , 0, 0, 0, ((2)**(1/2))/2, 0, 1,     0     , 0 ],\n",
        "     [     0       , 0, 0, 0,     0     , 0, 0, 0,      0    , 0, 0, 0,      0    , 0, 0,-((2)**(1/2))/2,-1 ]]\n",
        "\n",
        "b =  [     0       , 0, 0,10,     0     , 0, 0,15,      0    , 0, 0, 0,      0    , 0, 0,    10     , 0 ]\n",
        "\n",
        "x = gauss_pivot(A, b)\n",
        "print(x)"
      ],
      "execution_count": null,
      "outputs": [
        {
          "output_type": "stream",
          "name": "stdout",
          "text": [
            "[-26.870057685088803, 19.0, 10.0, -28.0, 12.727922061357855, 19.0, -0.0, -28.0, 8.48528137423857, 22.0, -0.0, -16.0, -8.48528137423857, 22.0, 16.0, -22.62741699796952, 16.0]\n"
          ]
        }
      ]
    },
    {
      "cell_type": "code",
      "source": [
        "A = [[50, 10, 10, 20], [20, 100, 10, 40], [20, 30, 100, 35], [5, 6, 5, 15]]\n",
        "b = [140, 190, 205, 54]\n",
        "x = gauss_pivot(A, b)\n",
        "print(x)"
      ],
      "metadata": {
        "colab": {
          "base_uri": "https://localhost:8080/"
        },
        "id": "4YNW-Oq1b0uk",
        "outputId": "3b75d395-ccaa-4d94-8d01-fbd55c0ebac8"
      },
      "execution_count": null,
      "outputs": [
        {
          "output_type": "stream",
          "name": "stdout",
          "text": [
            "[1.4966212704023285, 0.4554527497660879, 0.6706518349100739, 2.695394531656097]\n"
          ]
        }
      ]
    },
    {
      "cell_type": "code",
      "source": [
        "A = [[3, 2, 1], [2, 3, 1], [1, 2, 3]]\n",
        "b = [39, 34, 26]\n",
        "x = gauss_pivot(A, b)\n",
        "print(x)"
      ],
      "metadata": {
        "colab": {
          "base_uri": "https://localhost:8080/"
        },
        "id": "InY3xwg8Ibi6",
        "outputId": "52e05659-06fb-4a43-e4df-77cb50a153f0"
      },
      "execution_count": null,
      "outputs": [
        {
          "output_type": "stream",
          "name": "stdout",
          "text": [
            "[9.25, 4.25, 2.75]\n"
          ]
        }
      ]
    },
    {
      "cell_type": "code",
      "source": [
        "A = [[7, 1, -1], [1, 8, 1], [2, -1, 5]]\n",
        "b = [13, 30, 21]\n",
        "x = gauss_pivot(A, b)\n",
        "print(x)"
      ],
      "metadata": {
        "id": "_RQLsx5fKTRI",
        "outputId": "b716f876-e8cd-4cf6-9e26-eb24aed3fa6d",
        "colab": {
          "base_uri": "https://localhost:8080/"
        }
      },
      "execution_count": null,
      "outputs": [
        {
          "output_type": "stream",
          "name": "stdout",
          "text": [
            "[2.0, 3.0, 4.0]\n"
          ]
        }
      ]
    }
  ]
}